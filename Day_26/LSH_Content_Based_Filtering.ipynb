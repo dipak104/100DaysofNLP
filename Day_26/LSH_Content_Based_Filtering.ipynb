{
  "nbformat": 4,
  "nbformat_minor": 0,
  "metadata": {
    "colab": {
      "name": "LSH Content Based Filtering.ipynb",
      "provenance": [],
      "collapsed_sections": []
    },
    "kernelspec": {
      "name": "python3",
      "display_name": "Python 3"
    }
  },
  "cells": [
    {
      "cell_type": "code",
      "metadata": {
        "id": "D4GkcmvgQiKo"
      },
      "source": [
        "import os\r\n",
        "import numpy as np\r\n",
        "import pandas as pd\r\n",
        "import matplotlib.pyplot as plt\r\n",
        "from sklearn.feature_extraction.text import TfidfVectorizer\r\n",
        "from collections import defaultdict\r\n",
        "from itertools import combinations\r\n",
        "from sklearn.metrics.pairwise import pairwise_distances\r\n",
        "\r\n",
        "%matplotlib inline"
      ],
      "execution_count": 67,
      "outputs": []
    },
    {
      "cell_type": "code",
      "metadata": {
        "colab": {
          "base_uri": "https://localhost:8080/",
          "height": 219
        },
        "id": "-wMzxyPQQyhK",
        "outputId": "867f452b-330c-4f7d-90b3-e6755f9f9286"
      },
      "source": [
        "df = pd.read_csv('/content/sample-data.csv')\r\n",
        "print(df.shape)\r\n",
        "df.head()"
      ],
      "execution_count": 68,
      "outputs": [
        {
          "output_type": "stream",
          "text": [
            "(500, 2)\n"
          ],
          "name": "stdout"
        },
        {
          "output_type": "execute_result",
          "data": {
            "text/html": [
              "<div>\n",
              "<style scoped>\n",
              "    .dataframe tbody tr th:only-of-type {\n",
              "        vertical-align: middle;\n",
              "    }\n",
              "\n",
              "    .dataframe tbody tr th {\n",
              "        vertical-align: top;\n",
              "    }\n",
              "\n",
              "    .dataframe thead th {\n",
              "        text-align: right;\n",
              "    }\n",
              "</style>\n",
              "<table border=\"1\" class=\"dataframe\">\n",
              "  <thead>\n",
              "    <tr style=\"text-align: right;\">\n",
              "      <th></th>\n",
              "      <th>id</th>\n",
              "      <th>description</th>\n",
              "    </tr>\n",
              "  </thead>\n",
              "  <tbody>\n",
              "    <tr>\n",
              "      <th>0</th>\n",
              "      <td>1</td>\n",
              "      <td>Active classic boxers - There's a reason why o...</td>\n",
              "    </tr>\n",
              "    <tr>\n",
              "      <th>1</th>\n",
              "      <td>2</td>\n",
              "      <td>Active sport boxer briefs - Skinning up Glory ...</td>\n",
              "    </tr>\n",
              "    <tr>\n",
              "      <th>2</th>\n",
              "      <td>3</td>\n",
              "      <td>Active sport briefs - These superbreathable no...</td>\n",
              "    </tr>\n",
              "    <tr>\n",
              "      <th>3</th>\n",
              "      <td>4</td>\n",
              "      <td>Alpine guide pants - Skin in, climb ice, switc...</td>\n",
              "    </tr>\n",
              "    <tr>\n",
              "      <th>4</th>\n",
              "      <td>5</td>\n",
              "      <td>Alpine wind jkt - On high ridges, steep ice an...</td>\n",
              "    </tr>\n",
              "  </tbody>\n",
              "</table>\n",
              "</div>"
            ],
            "text/plain": [
              "   id                                        description\n",
              "0   1  Active classic boxers - There's a reason why o...\n",
              "1   2  Active sport boxer briefs - Skinning up Glory ...\n",
              "2   3  Active sport briefs - These superbreathable no...\n",
              "3   4  Alpine guide pants - Skin in, climb ice, switc...\n",
              "4   5  Alpine wind jkt - On high ridges, steep ice an..."
            ]
          },
          "metadata": {
            "tags": []
          },
          "execution_count": 68
        }
      ]
    },
    {
      "cell_type": "code",
      "metadata": {
        "colab": {
          "base_uri": "https://localhost:8080/"
        },
        "id": "WisqPDA2Sq_l",
        "outputId": "78a21520-7476-4345-c897-8027a0e29eeb"
      },
      "source": [
        "tfidf = TfidfVectorizer(\r\n",
        "    analyzer='word',\r\n",
        "    ngram_range = (1, 3),\r\n",
        "    min_df = 0,\r\n",
        "    stop_words = 'english'\r\n",
        ")\r\n",
        "\r\n",
        "X_tfidf = tfidf.fit_transform(df['description'])\r\n",
        "X_tfidf"
      ],
      "execution_count": 69,
      "outputs": [
        {
          "output_type": "execute_result",
          "data": {
            "text/plain": [
              "<500x52262 sparse matrix of type '<class 'numpy.float64'>'\n",
              "\twith 148989 stored elements in Compressed Sparse Row format>"
            ]
          },
          "metadata": {
            "tags": []
          },
          "execution_count": 69
        }
      ]
    },
    {
      "cell_type": "code",
      "metadata": {
        "id": "D143nQhSS696"
      },
      "source": [
        "def get_similar_items(X_tfidf, id, topn=5):\r\n",
        "  query = X_tfidf[id]\r\n",
        "  scores = X_tfidf.dot(query.T).toarray().ravel()\r\n",
        "  best = np.argpartition(scores, -topn)[-topn:]\r\n",
        "  return sorted(zip(best, scores[best]), key=lambda x: -x[1])\r\n"
      ],
      "execution_count": 70,
      "outputs": []
    },
    {
      "cell_type": "code",
      "metadata": {
        "id": "Zi3YJUBJTdxM"
      },
      "source": [
        "similar_items = get_similar_items(X_tfidf, id=1)"
      ],
      "execution_count": 71,
      "outputs": []
    },
    {
      "cell_type": "code",
      "metadata": {
        "id": "T1wL44BDT2y6"
      },
      "source": [
        "def generate_random_vectors(dim, n_vectors):\r\n",
        "  return np.random.randn(dim, n_vectors)"
      ],
      "execution_count": 39,
      "outputs": []
    },
    {
      "cell_type": "markdown",
      "metadata": {
        "id": "XBjszxQ3ViyC"
      },
      "source": [
        " Now, We'd like to decide which bin each documents should go. Since we generated 16 random vectors, we have 16 bits to represent the bin index.\r\n",
        " The first bit is given by the sign of the dot product b/w the first random vector and the document's TF-IDF vector and so on."
      ]
    },
    {
      "cell_type": "code",
      "metadata": {
        "colab": {
          "base_uri": "https://localhost:8080/"
        },
        "id": "0YeJ4zQpVZ4T",
        "outputId": "37bfc0a2-b94a-4bf1-e25a-85c191307cbb"
      },
      "source": [
        ""
      ],
      "execution_count": 41,
      "outputs": [
        {
          "output_type": "stream",
          "text": [
            "Dimension:  (1, 16)\n"
          ],
          "name": "stdout"
        },
        {
          "output_type": "execute_result",
          "data": {
            "text/plain": [
              "array([[False, False, False, False, False, False,  True,  True,  True,\n",
              "        False, False,  True, False, False, False, False]])"
            ]
          },
          "metadata": {
            "tags": []
          },
          "execution_count": 41
        }
      ]
    },
    {
      "cell_type": "markdown",
      "metadata": {
        "id": "s9FdEm0GWO3Q"
      },
      "source": [
        "Convert the resulting bin to integer representation for convenience.\r\n",
        "\r\n",
        "We can use rules of binary number representation to perform the conversion(dot product b/w the document vector and the vector consisting of powers of 2)."
      ]
    },
    {
      "cell_type": "code",
      "metadata": {
        "colab": {
          "base_uri": "https://localhost:8080/"
        },
        "id": "UpYQqaLpWIK5",
        "outputId": "ce1ac0b0-2f95-4b95-c993-5a06c44cc5f2"
      },
      "source": [
        ""
      ],
      "execution_count": 42,
      "outputs": [
        {
          "output_type": "stream",
          "text": [
            "[32768 16384  8192  4096  2048  1024   512   256   128    64    32    16\n",
            "     8     4     2     1]\n",
            "[912]\n"
          ],
          "name": "stdout"
        }
      ]
    },
    {
      "cell_type": "code",
      "metadata": {
        "colab": {
          "base_uri": "https://localhost:8080/"
        },
        "id": "lBmYFHu0XKIg",
        "outputId": "4518f5fd-2b5c-498a-abbc-1b55bdc8439a"
      },
      "source": [
        "indices_bits = X_tfidf.dot(random_vectors) >= 0\r\n",
        "print(indices_bits.shape)\r\n",
        "\r\n",
        "bin_indices = indices_bits.dot(power_of_2)\r\n",
        "bin_indices.shape"
      ],
      "execution_count": 43,
      "outputs": [
        {
          "output_type": "stream",
          "text": [
            "(500, 16)\n"
          ],
          "name": "stdout"
        },
        {
          "output_type": "execute_result",
          "data": {
            "text/plain": [
              "(500,)"
            ]
          },
          "metadata": {
            "tags": []
          },
          "execution_count": 43
        }
      ]
    },
    {
      "cell_type": "markdown",
      "metadata": {
        "id": "A7msHLfnYYxH"
      },
      "source": [
        "Given the integer bin indices for the documents, we would curate the list of document IDs that belong to each bin. Since a list is to be maintained for each unique bin index, a dictionary of lists is used."
      ]
    },
    {
      "cell_type": "code",
      "metadata": {
        "id": "gZr_X22QYOn-"
      },
      "source": [
        ""
      ],
      "execution_count": 44,
      "outputs": []
    },
    {
      "cell_type": "code",
      "metadata": {
        "id": "k6YywKrcYbnc"
      },
      "source": [
        "def train_lsh(X_tfidf, n_vectors, seed=None):\r\n",
        "  if seed is not None:\r\n",
        "    np.random.seed(seed)\r\n",
        "  \r\n",
        "  dim = X_tfidf.shape[1]\r\n",
        "  random_vectors = generate_random_vectors(dim, n_vectors)\r\n",
        "\r\n",
        "  indices_bits = X_tfidf.dot(random_vectors) >= 0\r\n",
        "  power_of_2 = 1 << np.arange(n_vectors - 1, -1, step=-1)\r\n",
        "  bin_indices = indices_bits.dot(power_of_2)\r\n",
        "  \r\n",
        "  table = defaultdict(list)  #table[i] is the list of document ids with bin index equal to i\r\n",
        "\r\n",
        "  for idx, bin_index in enumerate(bin_indices):\r\n",
        "    table[bin_index].append(idx)\r\n",
        "\r\n",
        "  model = {'table': table,\r\n",
        "           'random_vectors': random_vectors,\r\n",
        "           'bin_indices': bin_indices,\r\n",
        "           'indices_bits': indices_bits}\r\n",
        "\r\n",
        "  return model"
      ],
      "execution_count": 73,
      "outputs": []
    },
    {
      "cell_type": "code",
      "metadata": {
        "id": "ko5JC05IZiUC"
      },
      "source": [
        "n_vectors = 16\r\n",
        "model = train_lsh(X_tfidf, n_vectors, seed=143)"
      ],
      "execution_count": 74,
      "outputs": []
    },
    {
      "cell_type": "markdown",
      "metadata": {
        "id": "PACA0XpPbJoA"
      },
      "source": [
        "After generating our LSH model, let's examine the generated bins to get a deeper understanding of them. Recall that during the background section, given a product's tfidf vector representation, we were able to find its similar product using standard cosine similarity. Here, we will look at these similar products' bins to see if the result matches intuition. Remember the idea behind LSH is that similar data points will tend to fall into nearby bins."
      ]
    },
    {
      "cell_type": "code",
      "metadata": {
        "colab": {
          "base_uri": "https://localhost:8080/"
        },
        "id": "HFb9LhYdZm-Q",
        "outputId": "ea8311cd-3420-4fd9-9359-d022bab00175"
      },
      "source": [
        "similar_items_ids = [i for i, _ in similar_items]\r\n",
        "bits1 = model['indices_bits'][similar_items_ids[0]]\r\n",
        "bits2 = model['indices_bits'][similar_items_ids[1]]\r\n",
        "\r\n",
        "print('bits 1: ', bits2)\r\n",
        "print('bits 2: ', bits2)\r\n",
        "\r\n",
        "print('Number of agreed bins: ', np.sum(bits1 == bits2))"
      ],
      "execution_count": 75,
      "outputs": [
        {
          "output_type": "stream",
          "text": [
            "bits 1:  [ True False False False False False  True False False  True False False\n",
            "  True  True  True False]\n",
            "bits 2:  [ True False False False False False  True False False  True False False\n",
            "  True  True  True False]\n",
            "Number of agreed bins:  11\n"
          ],
          "name": "stdout"
        }
      ]
    },
    {
      "cell_type": "markdown",
      "metadata": {
        "id": "For1AB4F236_"
      },
      "source": [
        "Now, we define the logic for searching nearby neighbors.\r\n",
        "\r\n",
        "For a given query vector and trained LSH model's table return all candidate neighbors with the specified search radius"
      ]
    },
    {
      "cell_type": "code",
      "metadata": {
        "id": "Ev5yKGTeuhZh"
      },
      "source": [
        "def search_nearby_bins(query_bin_bits, table, search_radius=3, candidate_set=None):\r\n",
        "  if candidate_set is None:\r\n",
        "    candidate_set = set()\r\n",
        "\r\n",
        "  n_vectors = query_bin_bits.shape[0]\r\n",
        "  power_of_2 = 1 << np.arange(n_vectors - 1, -1, step=-1)\r\n",
        "\r\n",
        "  for different_bits in combinations(range(n_vectors), search_radius):\r\n",
        "    index = list(different_bits)\r\n",
        "    alternate_bits = query_bin_bits.copy()\r\n",
        "    alternate_bits[index] = np.logical_not(alternate_bits[index])\r\n",
        "\r\n",
        "    nearby_bin = alternate_bits.dot(power_of_2)\r\n",
        "\r\n",
        "    if nearby_bin in table:\r\n",
        "      candidate_set.update(table[nearby_bin])\r\n",
        "\r\n",
        "  return candidate_set"
      ],
      "execution_count": 76,
      "outputs": []
    },
    {
      "cell_type": "markdown",
      "metadata": {
        "id": "tFfayl_v3C8b"
      },
      "source": [
        "Now we use above searching function for nearby bins logic to search for similar document and return a dataframe that contains the most similar data points according to LSH and their distances."
      ]
    },
    {
      "cell_type": "code",
      "metadata": {
        "id": "HxGb7KVivj0J"
      },
      "source": [
        "def get_nearest_neighbors(X_tfidf, query_vector, model, max_search_radius=3):\r\n",
        "  table = model['table']\r\n",
        "  random_vectors = model['random_vectors']\r\n",
        "\r\n",
        "  bin_index_bits = np.ravel(query_vector.dot(random_vectors) >= 0)\r\n",
        "\r\n",
        "  candidate_set = set()\r\n",
        "\r\n",
        "  for search_radius in range(max_search_radius + 1):\r\n",
        "    candidate_set = search_nearby_bins(bin_index_bits, table, search_radius, candidate_set)\r\n",
        "    \r\n",
        "  candidate_list = list(candidate_set)\r\n",
        "  candidates = X_tfidf[candidate_list]\r\n",
        "  distance = pairwise_distances(candidates, query_vector, metric='cosine').flatten()\r\n",
        "\r\n",
        "  distance_col = 'distance'\r\n",
        "  nearest_neighbors = pd.DataFrame({\r\n",
        "       'id': candidate_list, distance_col: distance\r\n",
        "  }).sort_values(distance_col).reset_index(drop=True)\r\n",
        "\r\n",
        "  return nearest_neighbors"
      ],
      "execution_count": 77,
      "outputs": []
    },
    {
      "cell_type": "code",
      "metadata": {
        "colab": {
          "base_uri": "https://localhost:8080/",
          "height": 254
        },
        "id": "YOXVvlxE0AjP",
        "outputId": "49ffe902-83e3-4f3d-e818-1a0ba5a1304e"
      },
      "source": [
        "print('Original similar items:\\n' + str(similar_items))\r\n",
        "\r\n",
        "id = 1\r\n",
        "query_vector = X_tfidf[id]\r\n",
        "nearest_neighbors = get_nearest_neighbors(X_tfidf, query_vector, model, max_search_radius=5)\r\n",
        "print('Dimension: ', nearest_neighbors.shape)\r\n",
        "nearest_neighbors.head()"
      ],
      "execution_count": 65,
      "outputs": [
        {
          "output_type": "stream",
          "text": [
            "Original similar items:\n",
            "[(1, 1.0000000000000013), (2, 0.41816639921615745), (18, 0.11546382098627585), (493, 0.11303392245400211), (299, 0.11247854521091623)]\n",
            "Dimension:  (67, 2)\n"
          ],
          "name": "stdout"
        },
        {
          "output_type": "execute_result",
          "data": {
            "text/html": [
              "<div>\n",
              "<style scoped>\n",
              "    .dataframe tbody tr th:only-of-type {\n",
              "        vertical-align: middle;\n",
              "    }\n",
              "\n",
              "    .dataframe tbody tr th {\n",
              "        vertical-align: top;\n",
              "    }\n",
              "\n",
              "    .dataframe thead th {\n",
              "        text-align: right;\n",
              "    }\n",
              "</style>\n",
              "<table border=\"1\" class=\"dataframe\">\n",
              "  <thead>\n",
              "    <tr style=\"text-align: right;\">\n",
              "      <th></th>\n",
              "      <th>id</th>\n",
              "      <th>distance</th>\n",
              "    </tr>\n",
              "  </thead>\n",
              "  <tbody>\n",
              "    <tr>\n",
              "      <th>0</th>\n",
              "      <td>1</td>\n",
              "      <td>2.220446e-16</td>\n",
              "    </tr>\n",
              "    <tr>\n",
              "      <th>1</th>\n",
              "      <td>2</td>\n",
              "      <td>5.818336e-01</td>\n",
              "    </tr>\n",
              "    <tr>\n",
              "      <th>2</th>\n",
              "      <td>317</td>\n",
              "      <td>9.008780e-01</td>\n",
              "    </tr>\n",
              "    <tr>\n",
              "      <th>3</th>\n",
              "      <td>213</td>\n",
              "      <td>9.117783e-01</td>\n",
              "    </tr>\n",
              "    <tr>\n",
              "      <th>4</th>\n",
              "      <td>272</td>\n",
              "      <td>9.173818e-01</td>\n",
              "    </tr>\n",
              "  </tbody>\n",
              "</table>\n",
              "</div>"
            ],
            "text/plain": [
              "    id      distance\n",
              "0    1  2.220446e-16\n",
              "1    2  5.818336e-01\n",
              "2  317  9.008780e-01\n",
              "3  213  9.117783e-01\n",
              "4  272  9.173818e-01"
            ]
          },
          "metadata": {
            "tags": []
          },
          "execution_count": 65
        }
      ]
    },
    {
      "cell_type": "markdown",
      "metadata": {
        "id": "VJnb3-5c3drI"
      },
      "source": [
        "In the above result we use max_search_radius of 5, so LSH search wasn't capable of retrieving the actual most similar items to our target data point. Its  expected as LSH is an approximate nearest neighbourhood search method.\r\n",
        "\r\n",
        "Let's increase the max_search_radius to 10 to retrieve almost all the most similar items."
      ]
    },
    {
      "cell_type": "code",
      "metadata": {
        "colab": {
          "base_uri": "https://localhost:8080/",
          "height": 219
        },
        "id": "c1kTD8Ik4Kx8",
        "outputId": "16e1aa83-0d86-45bd-c151-b3fe0819fb6a"
      },
      "source": [
        "nearest_neighbors  = get_nearest_neighbors(X_tfidf, query_vector, model, max_search_radius=10)\r\n",
        "print('Dimension: ', nearest_neighbors.shape)\r\n",
        "nearest_neighbors.head()"
      ],
      "execution_count": 78,
      "outputs": [
        {
          "output_type": "stream",
          "text": [
            "Dimension:  (455, 2)\n"
          ],
          "name": "stdout"
        },
        {
          "output_type": "execute_result",
          "data": {
            "text/html": [
              "<div>\n",
              "<style scoped>\n",
              "    .dataframe tbody tr th:only-of-type {\n",
              "        vertical-align: middle;\n",
              "    }\n",
              "\n",
              "    .dataframe tbody tr th {\n",
              "        vertical-align: top;\n",
              "    }\n",
              "\n",
              "    .dataframe thead th {\n",
              "        text-align: right;\n",
              "    }\n",
              "</style>\n",
              "<table border=\"1\" class=\"dataframe\">\n",
              "  <thead>\n",
              "    <tr style=\"text-align: right;\">\n",
              "      <th></th>\n",
              "      <th>id</th>\n",
              "      <th>distance</th>\n",
              "    </tr>\n",
              "  </thead>\n",
              "  <tbody>\n",
              "    <tr>\n",
              "      <th>0</th>\n",
              "      <td>1</td>\n",
              "      <td>2.220446e-16</td>\n",
              "    </tr>\n",
              "    <tr>\n",
              "      <th>1</th>\n",
              "      <td>2</td>\n",
              "      <td>5.818336e-01</td>\n",
              "    </tr>\n",
              "    <tr>\n",
              "      <th>2</th>\n",
              "      <td>18</td>\n",
              "      <td>8.845362e-01</td>\n",
              "    </tr>\n",
              "    <tr>\n",
              "      <th>3</th>\n",
              "      <td>493</td>\n",
              "      <td>8.869661e-01</td>\n",
              "    </tr>\n",
              "    <tr>\n",
              "      <th>4</th>\n",
              "      <td>299</td>\n",
              "      <td>8.875215e-01</td>\n",
              "    </tr>\n",
              "  </tbody>\n",
              "</table>\n",
              "</div>"
            ],
            "text/plain": [
              "    id      distance\n",
              "0    1  2.220446e-16\n",
              "1    2  5.818336e-01\n",
              "2   18  8.845362e-01\n",
              "3  493  8.869661e-01\n",
              "4  299  8.875215e-01"
            ]
          },
          "metadata": {
            "tags": []
          },
          "execution_count": 78
        }
      ]
    },
    {
      "cell_type": "code",
      "metadata": {
        "colab": {
          "base_uri": "https://localhost:8080/",
          "height": 202
        },
        "id": "t2TGrTFd0Umf",
        "outputId": "3213768f-0d67-40a2-d157-34e6a71295f1"
      },
      "source": [
        "nearest_neighbors.head().merge(df, on='id', how='inner')"
      ],
      "execution_count": 79,
      "outputs": [
        {
          "output_type": "execute_result",
          "data": {
            "text/html": [
              "<div>\n",
              "<style scoped>\n",
              "    .dataframe tbody tr th:only-of-type {\n",
              "        vertical-align: middle;\n",
              "    }\n",
              "\n",
              "    .dataframe tbody tr th {\n",
              "        vertical-align: top;\n",
              "    }\n",
              "\n",
              "    .dataframe thead th {\n",
              "        text-align: right;\n",
              "    }\n",
              "</style>\n",
              "<table border=\"1\" class=\"dataframe\">\n",
              "  <thead>\n",
              "    <tr style=\"text-align: right;\">\n",
              "      <th></th>\n",
              "      <th>id</th>\n",
              "      <th>distance</th>\n",
              "      <th>description</th>\n",
              "    </tr>\n",
              "  </thead>\n",
              "  <tbody>\n",
              "    <tr>\n",
              "      <th>0</th>\n",
              "      <td>1</td>\n",
              "      <td>2.220446e-16</td>\n",
              "      <td>Active classic boxers - There's a reason why o...</td>\n",
              "    </tr>\n",
              "    <tr>\n",
              "      <th>1</th>\n",
              "      <td>2</td>\n",
              "      <td>5.818336e-01</td>\n",
              "      <td>Active sport boxer briefs - Skinning up Glory ...</td>\n",
              "    </tr>\n",
              "    <tr>\n",
              "      <th>2</th>\n",
              "      <td>18</td>\n",
              "      <td>8.845362e-01</td>\n",
              "      <td>Cap 1 bottoms - Spring skiing is as transient ...</td>\n",
              "    </tr>\n",
              "    <tr>\n",
              "      <th>3</th>\n",
              "      <td>493</td>\n",
              "      <td>8.869661e-01</td>\n",
              "      <td>'73 logo t-shirt - Patagonia's timeless '73 Lo...</td>\n",
              "    </tr>\n",
              "    <tr>\n",
              "      <th>4</th>\n",
              "      <td>299</td>\n",
              "      <td>8.875215e-01</td>\n",
              "      <td>Active boy shorts - We've worn these versatile...</td>\n",
              "    </tr>\n",
              "  </tbody>\n",
              "</table>\n",
              "</div>"
            ],
            "text/plain": [
              "    id      distance                                        description\n",
              "0    1  2.220446e-16  Active classic boxers - There's a reason why o...\n",
              "1    2  5.818336e-01  Active sport boxer briefs - Skinning up Glory ...\n",
              "2   18  8.845362e-01  Cap 1 bottoms - Spring skiing is as transient ...\n",
              "3  493  8.869661e-01  '73 logo t-shirt - Patagonia's timeless '73 Lo...\n",
              "4  299  8.875215e-01  Active boy shorts - We've worn these versatile..."
            ]
          },
          "metadata": {
            "tags": []
          },
          "execution_count": 79
        }
      ]
    },
    {
      "cell_type": "code",
      "metadata": {
        "id": "-Eqa3J-W0wTE"
      },
      "source": [
        ""
      ],
      "execution_count": null,
      "outputs": []
    }
  ]
}
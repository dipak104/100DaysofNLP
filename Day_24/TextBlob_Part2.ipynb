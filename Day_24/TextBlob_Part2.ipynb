{
  "nbformat": 4,
  "nbformat_minor": 0,
  "metadata": {
    "colab": {
      "name": "TextBlob_Part2.ipynb",
      "provenance": [],
      "collapsed_sections": []
    },
    "kernelspec": {
      "name": "python3",
      "display_name": "Python 3"
    }
  },
  "cells": [
    {
      "cell_type": "code",
      "metadata": {
        "colab": {
          "base_uri": "https://localhost:8080/"
        },
        "id": "znasqXFHMr2t",
        "outputId": "841d14d2-2c9d-4092-cc24-e60edd5bf8a2"
      },
      "source": [
        "!python -m textblob.download_corpora"
      ],
      "execution_count": null,
      "outputs": [
        {
          "output_type": "stream",
          "text": [
            "[nltk_data] Downloading package brown to /root/nltk_data...\n",
            "[nltk_data]   Unzipping corpora/brown.zip.\n",
            "[nltk_data] Downloading package punkt to /root/nltk_data...\n",
            "[nltk_data]   Unzipping tokenizers/punkt.zip.\n",
            "[nltk_data] Downloading package wordnet to /root/nltk_data...\n",
            "[nltk_data]   Unzipping corpora/wordnet.zip.\n",
            "[nltk_data] Downloading package averaged_perceptron_tagger to\n",
            "[nltk_data]     /root/nltk_data...\n",
            "[nltk_data]   Unzipping taggers/averaged_perceptron_tagger.zip.\n",
            "[nltk_data] Downloading package conll2000 to /root/nltk_data...\n",
            "[nltk_data]   Unzipping corpora/conll2000.zip.\n",
            "[nltk_data] Downloading package movie_reviews to /root/nltk_data...\n",
            "[nltk_data]   Unzipping corpora/movie_reviews.zip.\n",
            "Finished.\n"
          ],
          "name": "stdout"
        }
      ]
    },
    {
      "cell_type": "code",
      "metadata": {
        "id": "RP0PROuxMugK"
      },
      "source": [
        "from textblob import TextBlob\r\n",
        "from textblob import Word"
      ],
      "execution_count": null,
      "outputs": []
    },
    {
      "cell_type": "markdown",
      "metadata": {
        "id": "qgdAcCYPPOn2"
      },
      "source": [
        "# Spelling Correction"
      ]
    },
    {
      "cell_type": "code",
      "metadata": {
        "colab": {
          "base_uri": "https://localhost:8080/"
        },
        "id": "t9WO58JOMeof",
        "outputId": "c7742c40-36e0-4115-ad01-ab1cb93cc3a5"
      },
      "source": [
        "# Spelling correction is a cool feature which TextBlob offers, \r\n",
        "# we can be accessed using the correct function\r\n",
        "\r\n",
        "blob = TextBlob('The world econoy is going to be stabel in a few years.')\r\n",
        "\r\n",
        "blob.correct()"
      ],
      "execution_count": null,
      "outputs": [
        {
          "output_type": "execute_result",
          "data": {
            "text/plain": [
              "TextBlob(\"The world economy is going to be stable in a few years.\")"
            ]
          },
          "metadata": {
            "tags": []
          },
          "execution_count": 3
        }
      ]
    },
    {
      "cell_type": "code",
      "metadata": {
        "colab": {
          "base_uri": "https://localhost:8080/"
        },
        "id": "5U_CMlxbM5-U",
        "outputId": "9ca9a1ea-fd42-4069-a02c-a5261fcee0d1"
      },
      "source": [
        "# Check the list of suggested word and its confidence\r\n",
        "blob.words[4].spellcheck()"
      ],
      "execution_count": null,
      "outputs": [
        {
          "output_type": "execute_result",
          "data": {
            "text/plain": [
              "[('going', 1.0)]"
            ]
          },
          "metadata": {
            "tags": []
          },
          "execution_count": 4
        }
      ]
    },
    {
      "cell_type": "markdown",
      "metadata": {
        "id": "wizBUeC6PSau"
      },
      "source": [
        "# Create  short Summary of the text"
      ]
    },
    {
      "cell_type": "code",
      "metadata": {
        "id": "ZyjnAOEpM-w5"
      },
      "source": [
        "blob = TextBlob('In computing, plain text is a loose term for data \\\r\n",
        "(e.g. file contents) that represent only characters of \\\r\n",
        " readable material but not its graphical representation nor \\\r\n",
        "  other objects (floating-point numbers, images, etc.). \\\r\n",
        "  It may also include a limited number of \"whitespace\" characters \\\r\n",
        "  that affect simple arrangement of text, such as spaces, \\\r\n",
        "   line breaks, or tabulation characters')\r\n",
        "\r\n",
        "noun = list()\r\n",
        "\r\n",
        "for word, tag in blob.tags:\r\n",
        "  if tag == 'NN':\r\n",
        "    noun.append(word.lemmatize())"
      ],
      "execution_count": null,
      "outputs": []
    },
    {
      "cell_type": "code",
      "metadata": {
        "id": "a9pi4_CiOBXH"
      },
      "source": [
        "import random"
      ],
      "execution_count": null,
      "outputs": []
    },
    {
      "cell_type": "code",
      "metadata": {
        "colab": {
          "base_uri": "https://localhost:8080/"
        },
        "id": "OcYnrGOSNmms",
        "outputId": "1de7ceb2-fcdc-4947-d874-9da6ff2b8ad1"
      },
      "source": [
        "for item in random.sample(noun, 5):\r\n",
        "  word = Word(item)\r\n",
        "  print(word.pluralize())"
      ],
      "execution_count": null,
      "outputs": [
        {
          "output_type": "stream",
          "text": [
            "arrangements\n",
            "representations\n",
            "tabulations\n",
            "numbers\n",
            "texts\n"
          ],
          "name": "stdout"
        }
      ]
    },
    {
      "cell_type": "markdown",
      "metadata": {
        "id": "kqKleB61PLZR"
      },
      "source": [
        "# Language Translation and Detection"
      ]
    },
    {
      "cell_type": "code",
      "metadata": {
        "colab": {
          "base_uri": "https://localhost:8080/",
          "height": 35
        },
        "id": "E6fhJRW2OPdy",
        "outputId": "57fd669a-10c7-4df7-ad88-bc23e31f214c"
      },
      "source": [
        "blob = TextBlob('Привет мир')\r\n",
        "blob.detect_language()            # ru means russian"
      ],
      "execution_count": null,
      "outputs": [
        {
          "output_type": "execute_result",
          "data": {
            "application/vnd.google.colaboratory.intrinsic+json": {
              "type": "string"
            },
            "text/plain": [
              "'ru'"
            ]
          },
          "metadata": {
            "tags": []
          },
          "execution_count": 22
        }
      ]
    },
    {
      "cell_type": "code",
      "metadata": {
        "colab": {
          "base_uri": "https://localhost:8080/"
        },
        "id": "v1mm6bzPOgIb",
        "outputId": "fc47684d-99a9-4070-8589-7e42a5576ea3"
      },
      "source": [
        "blob.translate(from_lang='ru', to='en')    # from_language is optional"
      ],
      "execution_count": null,
      "outputs": [
        {
          "output_type": "execute_result",
          "data": {
            "text/plain": [
              "TextBlob(\"Hello World\")"
            ]
          },
          "metadata": {
            "tags": []
          },
          "execution_count": 24
        }
      ]
    },
    {
      "cell_type": "markdown",
      "metadata": {
        "id": "C6McAr2uPIHE"
      },
      "source": [
        "# Text Classification using TextBlob"
      ]
    },
    {
      "cell_type": "code",
      "metadata": {
        "id": "I65sjLX3O9yV"
      },
      "source": [
        "training = [\r\n",
        "            ('Tom Holland is a terrible spiderman.','pos'),\r\n",
        "('a terrible Javert (Russell Crowe) ruined Les Miserables for me...','pos'),\r\n",
        "('The Dark Knight Rises is the greatest superhero movie ever!','neg'),\r\n",
        "('Fantastic Four should have never been made.','pos'),\r\n",
        "('Wes Anderson is my favorite director!','neg'),\r\n",
        "('Captain America 2 is pretty awesome.','neg'),\r\n",
        "('Let\\s pretend \"Batman and Robin\" never happened..','pos'),\r\n",
        "]\r\n",
        "testing = [\r\n",
        "('Superman was never an interesting character.','pos'),\r\n",
        "('Fantastic Mr Fox is an awesome film!','neg'),\r\n",
        "('Dragonball Evolution is simply terrible!!','pos')\r\n",
        "\r\n",
        "]"
      ],
      "execution_count": null,
      "outputs": []
    },
    {
      "cell_type": "code",
      "metadata": {
        "id": "n2Tai9L-PhYB"
      },
      "source": [
        "from textblob import classifiers\r\n",
        "classifier = classifiers.NaiveBayesClassifier(training)"
      ],
      "execution_count": null,
      "outputs": []
    },
    {
      "cell_type": "code",
      "metadata": {
        "colab": {
          "base_uri": "https://localhost:8080/"
        },
        "id": "DQsU5tJDPqw8",
        "outputId": "3c3bfb96-5636-45fe-e719-1473423ec5e6"
      },
      "source": [
        "print(classifier.accuracy(testing))"
      ],
      "execution_count": null,
      "outputs": [
        {
          "output_type": "stream",
          "text": [
            "1.0\n"
          ],
          "name": "stdout"
        }
      ]
    },
    {
      "cell_type": "code",
      "metadata": {
        "colab": {
          "base_uri": "https://localhost:8080/"
        },
        "id": "W9BLRtwwPwUp",
        "outputId": "a4197d74-b39c-4034-efc4-abe8a5c8bf44"
      },
      "source": [
        "classifier.show_informative_features(3)"
      ],
      "execution_count": null,
      "outputs": [
        {
          "output_type": "stream",
          "text": [
            "Most Informative Features\n",
            "            contains(is) = True              neg : pos    =      2.9 : 1.0\n",
            "             contains(a) = False             neg : pos    =      1.8 : 1.0\n",
            "      contains(terrible) = False             neg : pos    =      1.8 : 1.0\n"
          ],
          "name": "stdout"
        }
      ]
    },
    {
      "cell_type": "code",
      "metadata": {
        "colab": {
          "base_uri": "https://localhost:8080/"
        },
        "id": "SB-y4f2CP0g6",
        "outputId": "31a2ffa5-3e09-4da8-af28-cb04b4f51d9a"
      },
      "source": [
        "blob = TextBlob('The weather is bad!', classifier = classifier)\r\n",
        "print(blob.classify())"
      ],
      "execution_count": null,
      "outputs": [
        {
          "output_type": "stream",
          "text": [
            "neg\n"
          ],
          "name": "stdout"
        }
      ]
    },
    {
      "cell_type": "code",
      "metadata": {
        "id": "xS1IwE2zP9KT"
      },
      "source": [
        ""
      ],
      "execution_count": null,
      "outputs": []
    }
  ]
}
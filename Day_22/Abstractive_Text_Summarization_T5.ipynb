{
  "nbformat": 4,
  "nbformat_minor": 0,
  "metadata": {
    "colab": {
      "name": "Abstractive_Text_Summarization_T5.ipynb",
      "provenance": [],
      "collapsed_sections": [],
      "machine_shape": "hm"
    },
    "kernelspec": {
      "name": "python3",
      "display_name": "Python 3"
    },
    "accelerator": "GPU"
  },
  "cells": [
    {
      "cell_type": "code",
      "metadata": {
        "id": "jWa-sZUdhQJ4"
      },
      "source": [
        "import torch\n",
        "from transformers  import T5Tokenizer, T5ForConditionalGeneration, T5Config\n",
        "import numpy as np  \n",
        "import pandas as pd \n",
        "import re          "
      ],
      "execution_count": 39,
      "outputs": []
    },
    {
      "cell_type": "code",
      "metadata": {
        "id": "li06n9enO2jU"
      },
      "source": [
        "model = T5ForConditionalGeneration.from_pretrained('t5-small')\r\n",
        "tokenizer = T5Tokenizer.from_pretrained('t5-small')\r\n",
        "device = torch.device(\"cuda\" if torch.cuda.is_available() else \"cpu\")"
      ],
      "execution_count": 40,
      "outputs": []
    },
    {
      "cell_type": "code",
      "metadata": {
        "id": "Dpw1j97AO2hF"
      },
      "source": [
        "text =\"\"\"\r\n",
        "typhoon one powerful storms hit philippines november leaving behind catastrophic almost injured million \r\n",
        "people recovery monster locally known long looking someone missing information someone reach icrc restoring \r\n",
        "family links network search typhoon yolanda person google crisis map also added detail areas designated \r\n",
        "charities nongovernmental organizations around world responding many detailed providing aid help make \r\n",
        "emergency support philippine red cross deployed rescue relief teams evaluate damage areas devastated \r\n",
        "typhoon donate philippine red cross selecting supertyphoon yolanda campaign donation international \r\n",
        "federation red cross red crescent societies international committee red cross red cross networks around \r\n",
        "world supporting philippine red many created specific funds including american red canadian red cross \r\n",
        "british red salvation army serving storm primarily water emergency disaster service teams providing help\r\n",
        " since typhoon challenged lack accessible roads transport goods medical set designated fund haiyan relief \r\n",
        " access also make donation calling american jewish joint distribution committee shipped container hygiene \r\n",
        " medical supplies also providing kits temporary classrooms displaced children ongoing partnership support \r\n",
        " efforts online phone emergency response teams coordinating local partners philippines provide shelter \r\n",
        " health care support efforts phone within united states outside catholic relief official international \r\n",
        " humanitarian agency catholic community helping water shelter materials essential living donate efforts \r\n",
        " online call also type phone number website representative call back take convoy global disaster response \r\n",
        " team shipped containers full food supplies like hygiene kits water filtration units visit convoy website \r\n",
        " donate funds efforts call mercy corps delivering temporary shelter basic supplies devastated areas \r\n",
        " throughout support organization donating calling oxfam america aid teams ground northern northern eastern \r\n",
        " samar eastern visayas region working provide immediate access water sanitation support effort donating \r\n",
        " online typhoon haiyan relief recovery phone adventist development relief emergency response team working \r\n",
        " manila province bohol provide emergency relief medical aid launched emergency appeal support online phone \r\n",
        " international rescue committee emergency team manila launched million appeal order ensure immediate needs \r\n",
        " like safe hygiene sanitation would like contribute click operation blessing international deployed disaster \r\n",
        " relief teams multiple locations following massive devastation typhoon organization providing clean water\r\n",
        "  emergency shelter materials medical help make contribution food water world food programme already \r\n",
        "  providing emergency food assistance philippines following october emergency food stocks stretched\r\n",
        "   additional supplies help efforts donating online calling domestically international purse sent disaster\r\n",
        "    relief including water nutrition philippines deliver immediate launched philippines emergency relief\r\n",
        "     fund support online phone world vision responding philippines first providing emergency food clean \r\n",
        "     also create spaces help families rebuild launched philippines disaster response fund support online\r\n",
        "      calling action hunger providing drinking water survival kits containing soap chlorine also working\r\n",
        "       distribute sanitation equipment prevent outbreaks waterborne requesting assistance help donating \r\n",
        "       online calling half million meals feed starving children distributed typhoon haiyan additional \r\n",
        "       million meals requested humanitarian organizations working provide much needed food people donate\r\n",
        "        fmsc water missions international working provide safe drinking water need around one areas hardest \r\n",
        "        hit typhoon setting water treatment systems portable water please donate online call water missions \r\n",
        "        international would like support shelter refugee agency working philippine government establish \r\n",
        "        safe cluster zones displaced also distributing tents housing including blankets solar powered\r\n",
        "         help unhcr online donation calling domestically shelterbox already philippines providing shelter\r\n",
        "          earthquake hit bohol october expanding operations provide tents essential equipment families \r\n",
        "          left homeless typhoon support work philippines either online calling habitat humanity providing\r\n",
        "           shelter repair kits help survivors rebuild damaged support work donating philippines philippines \r\n",
        "           fund contributing disaster response also make donation phone architecture humanity working local architects identify critical rebuilding support super typhoon haiyan response calling texting rebuild make donation mobile medical assistance americares shipped wound care supplies pain relievers philippines shipments support americares online donation calling international medical corps deployed medical professionals water sanitation experts island organization also recruited local medical volunteers staff mobile medical units around international medical corps team focusing efforts child maternal clean hygiene awareness psychosocial donate typhoon haiyan emergency response fund online calling tons emergency medicine medical supplies delivered philippines direct supplies include pain nutritional antifungal wound dressings chronic disease call donation dialing online support sans without borders emergency teams cebu including medical logisticians brought supplies medical equipment material purify well essential plastic cooking items hygiene teams monitor possible outbreaks infectious make donation calling doctors world dispatched team doctors support staff give immediate medical care support donating phone heart heart international sent medical volunteers emergency hygiene kits medical addition donations disaster readiness response looking licensed medical professionals volunteer also help preparing shipping hygiene kits catholic medical mission board sent medical team aid including wound care surgical support efforts donation online calling helping children fund unicef helping children families philippines receive clean nutrition emergency response supported online calling also donate directly unicef philippines save children offering disaster relief support children philippines typhoon charity providing relief material kits children include household cleaning temporary school tents learning support philippines annual monsoon typhoon children emergency fund also donate phone emergency response teams childfund international prepositioned including emergency kits made arrangements local suppliers access food relief organization also setting centered spaces kids feel donate childfund online help children cope recover confidence teams plan also responding needs children priorities vulnerable youngsters communities rural support appeal\r\n",
        "\"\"\""
      ],
      "execution_count": 41,
      "outputs": []
    },
    {
      "cell_type": "code",
      "metadata": {
        "colab": {
          "base_uri": "https://localhost:8080/"
        },
        "id": "gULZSPI-O2e-",
        "outputId": "8f8fe6f7-9869-4264-825e-3d3964b0fe31"
      },
      "source": [
        "process_text = text.strip().replace(\"\\n\", \"\")\r\n",
        "tokenized_text = tokenizer.encode(process_text, return_tensors = 'pt').to(device)\r\n",
        "model = model.to(device)"
      ],
      "execution_count": 42,
      "outputs": [
        {
          "output_type": "stream",
          "text": [
            "Token indices sequence length is longer than the specified maximum sequence length for this model (1123 > 512). Running this sequence through the model will result in indexing errors\n"
          ],
          "name": "stderr"
        }
      ]
    },
    {
      "cell_type": "code",
      "metadata": {
        "id": "gsE06lbLO2aW"
      },
      "source": [
        "summary_ids = model.generate(tokenized_text,\r\n",
        "                                    num_beams=4,\r\n",
        "                                    no_repeat_ngram_size=2,\r\n",
        "                                    min_length=30,\r\n",
        "                                    max_length=100,\r\n",
        "                                    early_stopping=True)"
      ],
      "execution_count": 43,
      "outputs": []
    },
    {
      "cell_type": "code",
      "metadata": {
        "id": "CcAHxCDeO2X9"
      },
      "source": [
        "output = tokenizer.decode(summary_ids[0], skip_special_tokens=True)"
      ],
      "execution_count": 45,
      "outputs": []
    },
    {
      "cell_type": "code",
      "metadata": {
        "colab": {
          "base_uri": "https://localhost:8080/",
          "height": 70
        },
        "id": "oMyXv9pM344A",
        "outputId": "dd14af33-a1a6-4396-ef54-cf6a329d7b90"
      },
      "source": [
        "output"
      ],
      "execution_count": 46,
      "outputs": [
        {
          "output_type": "execute_result",
          "data": {
            "application/vnd.google.colaboratory.intrinsic+json": {
              "type": "string"
            },
            "text/plain": [
              "'philippines november leaving behind catastrophic almost injured million people recovery monster locally known long looking someone missing information someone reach icrc restoring family links network search typhoon yolanda person google crisis map also added detail areas designated charities nongovernmental organizations around world responding many detailed providing aid help make emergency support.'"
            ]
          },
          "metadata": {
            "tags": []
          },
          "execution_count": 46
        }
      ]
    },
    {
      "cell_type": "code",
      "metadata": {
        "colab": {
          "base_uri": "https://localhost:8080/"
        },
        "id": "-dsS3Dg_TbAa",
        "outputId": "477818ca-190c-4362-8fc9-f63e7db7c38e"
      },
      "source": [
        "len(text), len(output)"
      ],
      "execution_count": 47,
      "outputs": [
        {
          "output_type": "execute_result",
          "data": {
            "text/plain": [
              "(6911, 404)"
            ]
          },
          "metadata": {
            "tags": []
          },
          "execution_count": 47
        }
      ]
    },
    {
      "cell_type": "code",
      "metadata": {
        "id": "VcCHfbvJAQlG"
      },
      "source": [
        ""
      ],
      "execution_count": null,
      "outputs": []
    }
  ]
}
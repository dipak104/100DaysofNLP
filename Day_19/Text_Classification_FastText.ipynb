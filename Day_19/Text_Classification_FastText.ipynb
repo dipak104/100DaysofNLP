{
  "nbformat": 4,
  "nbformat_minor": 0,
  "metadata": {
    "colab": {
      "name": "Text Classification FastText.ipynb",
      "provenance": [],
      "collapsed_sections": []
    },
    "kernelspec": {
      "name": "python3",
      "display_name": "Python 3"
    },
    "accelerator": "GPU"
  },
  "cells": [
    {
      "cell_type": "code",
      "metadata": {
        "colab": {
          "base_uri": "https://localhost:8080/"
        },
        "id": "ahl1lCuXCmmt",
        "outputId": "24c77599-1b05-44d9-f17d-6943aac249c6"
      },
      "source": [
        "import torch\r\n",
        "from torchtext import data, datasets\r\n",
        "\r\n",
        "SEED = 1234\r\n",
        "\r\n",
        "torch.manual_seed(SEED)"
      ],
      "execution_count": 1,
      "outputs": [
        {
          "output_type": "execute_result",
          "data": {
            "text/plain": [
              "<torch._C.Generator at 0x7f1fc8f0db70>"
            ]
          },
          "metadata": {
            "tags": []
          },
          "execution_count": 1
        }
      ]
    },
    {
      "cell_type": "code",
      "metadata": {
        "id": "jYW0bzuhFZZ8"
      },
      "source": [
        "def generate_bigrams(x):\r\n",
        "    n_grams = set(zip(*[x[i:] for i in range(2)]))\r\n",
        "    for n_gram in n_grams:\r\n",
        "        x.append(' '.join(n_gram))\r\n",
        "    return x"
      ],
      "execution_count": 2,
      "outputs": []
    },
    {
      "cell_type": "code",
      "metadata": {
        "id": "sijTTkIRFNJe"
      },
      "source": [
        "TEXT = data.Field(tokenize = 'spacy', preprocessing = generate_bigrams)\r\n",
        "LABEL = data.LabelField(dtype = torch.float)"
      ],
      "execution_count": 3,
      "outputs": []
    },
    {
      "cell_type": "code",
      "metadata": {
        "id": "bxIpCf6eFXMA"
      },
      "source": [
        "import random"
      ],
      "execution_count": 4,
      "outputs": []
    },
    {
      "cell_type": "code",
      "metadata": {
        "colab": {
          "base_uri": "https://localhost:8080/"
        },
        "id": "EmflAGMyFfdb",
        "outputId": "60153972-dcf4-4aef-b9c7-02671bc39da2"
      },
      "source": [
        "train, test = datasets.IMDB.splits(TEXT, LABEL)\r\n",
        "\r\n",
        "train, valid = train.split(random_state = random.seed(SEED))"
      ],
      "execution_count": 5,
      "outputs": [
        {
          "output_type": "stream",
          "text": [
            "\raclImdb_v1.tar.gz:   0%|          | 0.00/84.1M [00:00<?, ?B/s]"
          ],
          "name": "stderr"
        },
        {
          "output_type": "stream",
          "text": [
            "downloading aclImdb_v1.tar.gz\n"
          ],
          "name": "stdout"
        },
        {
          "output_type": "stream",
          "text": [
            "aclImdb_v1.tar.gz: 100%|██████████| 84.1M/84.1M [00:03<00:00, 22.3MB/s]\n"
          ],
          "name": "stderr"
        }
      ]
    },
    {
      "cell_type": "code",
      "metadata": {
        "colab": {
          "base_uri": "https://localhost:8080/"
        },
        "id": "qRiN_kXzFusM",
        "outputId": "075d3c0f-c750-4304-eac5-c2673c62c540"
      },
      "source": [
        "MAX_VOCAB_SIZE = 25000\r\n",
        "TEXT.build_vocab(train,\r\n",
        "                 max_size = MAX_VOCAB_SIZE,\r\n",
        "                 vectors = 'glove.6B.100d',\r\n",
        "                 unk_init = torch.Tensor.normal_)\r\n",
        "\r\n",
        "LABEL.build_vocab(train)"
      ],
      "execution_count": 6,
      "outputs": [
        {
          "output_type": "stream",
          "text": [
            ".vector_cache/glove.6B.zip: 862MB [06:28, 2.22MB/s]                          \n",
            "100%|█████████▉| 398975/400000 [00:24<00:00, 16854.56it/s]"
          ],
          "name": "stderr"
        }
      ]
    },
    {
      "cell_type": "code",
      "metadata": {
        "id": "d1dOQF8YF-Q6"
      },
      "source": [
        "BATCH_SIZE = 64\r\n",
        "\r\n",
        "device = 'cuda' if torch.cuda.is_available() else 'cpu'"
      ],
      "execution_count": 7,
      "outputs": []
    },
    {
      "cell_type": "code",
      "metadata": {
        "id": "logqVMHyGG9t"
      },
      "source": [
        "train_iter, valid_iter, test_iter = data.BucketIterator.splits(\r\n",
        "    (train, valid, test),\r\n",
        "    batch_size = BATCH_SIZE,\r\n",
        "    device = device\r\n",
        ")"
      ],
      "execution_count": 8,
      "outputs": []
    },
    {
      "cell_type": "code",
      "metadata": {
        "id": "Z3QMEVA4GTa9"
      },
      "source": [
        "import torch.nn as nn\r\n",
        "import torch.nn.functional as F\r\n",
        "\r\n",
        "class FastText(nn.Module):\r\n",
        "  def __init__(self, vocab_size, embedding_dim, output_dim, pad_idx):\r\n",
        "    super().__init__()\r\n",
        "    self.embedding = nn.Embedding(vocab_size, embedding_dim, padding_idx = pad_idx)\r\n",
        "    self.linear = nn.Linear(embedding_dim, output_dim)\r\n",
        "  \r\n",
        "  def forward(self, text):\r\n",
        "    embed = self.embedding(text)\r\n",
        "    embed = embed.permute(1, 0, 2)\r\n",
        "    pooled = F.avg_pool2d(embed, (embed.shape[1], 1)).squeeze(1)\r\n",
        "    return self.linear(pooled)"
      ],
      "execution_count": 9,
      "outputs": []
    },
    {
      "cell_type": "code",
      "metadata": {
        "id": "0OyxXJ_7HD4I"
      },
      "source": [
        "INPUT_DIM = len(TEXT.vocab)\r\n",
        "EMBEDDING_DIM = 100\r\n",
        "OUTPUT_DIM = 1\r\n",
        "PAD_IDX = TEXT.vocab.stoi[TEXT.pad_token]\r\n",
        "\r\n",
        "model = FastText(INPUT_DIM, EMBEDDING_DIM, OUTPUT_DIM, PAD_IDX)"
      ],
      "execution_count": 10,
      "outputs": []
    },
    {
      "cell_type": "code",
      "metadata": {
        "colab": {
          "base_uri": "https://localhost:8080/"
        },
        "id": "gEeaqgBQHTsi",
        "outputId": "4440726f-79bf-4b96-ebb4-0690a4eb7552"
      },
      "source": [
        "pretrained_embeddings = TEXT.vocab.vectors\r\n",
        "model.embedding.weight.data.copy_(pretrained_embeddings)"
      ],
      "execution_count": 11,
      "outputs": [
        {
          "output_type": "execute_result",
          "data": {
            "text/plain": [
              "tensor([[-0.1117, -0.4966,  0.1631,  ...,  1.2647, -0.2753, -0.1325],\n",
              "        [-0.8555, -0.7208,  1.3755,  ...,  0.0825, -1.1314,  0.3997],\n",
              "        [-0.0382, -0.2449,  0.7281,  ..., -0.1459,  0.8278,  0.2706],\n",
              "        ...,\n",
              "        [ 0.2260, -0.2145,  1.1436,  ...,  0.7409,  0.9233, -1.4505],\n",
              "        [ 0.5043, -0.4016,  0.3739,  ..., -0.6785, -0.6437,  0.5768],\n",
              "        [ 0.2256, -1.5004, -0.4065,  ..., -0.4732,  1.0807,  1.9720]])"
            ]
          },
          "metadata": {
            "tags": []
          },
          "execution_count": 11
        }
      ]
    },
    {
      "cell_type": "code",
      "metadata": {
        "id": "l3Q8XfEtHdPo"
      },
      "source": [
        "UNK_IDX = TEXT.vocab.stoi[TEXT.unk_token]\r\n",
        "\r\n",
        "model.embedding.weight.data[UNK_IDX] = torch.zeros(EMBEDDING_DIM)\r\n",
        "model.embedding.weight.data[PAD_IDX] = torch.zeros(EMBEDDING_DIM)"
      ],
      "execution_count": 12,
      "outputs": []
    },
    {
      "cell_type": "code",
      "metadata": {
        "id": "AmYv-lHZHtUL"
      },
      "source": [
        "import torch.optim as optim"
      ],
      "execution_count": 13,
      "outputs": []
    },
    {
      "cell_type": "code",
      "metadata": {
        "id": "kTknw_m6HvTH"
      },
      "source": [
        "optimizer = optim.Adam(model.parameters())"
      ],
      "execution_count": 14,
      "outputs": []
    },
    {
      "cell_type": "code",
      "metadata": {
        "colab": {
          "base_uri": "https://localhost:8080/"
        },
        "id": "_zitNv7vHzRk",
        "outputId": "29c9de1d-590e-4d66-d9ee-4b2eb26b0020"
      },
      "source": [
        "criterion = nn.BCEWithLogitsLoss()\r\n",
        "model = model.to(device)\r\n",
        "criterion = criterion.to(device)"
      ],
      "execution_count": 15,
      "outputs": [
        {
          "output_type": "stream",
          "text": [
            "\r100%|█████████▉| 398975/400000 [00:40<00:00, 16854.56it/s]"
          ],
          "name": "stderr"
        }
      ]
    },
    {
      "cell_type": "code",
      "metadata": {
        "id": "9Xk9RVF7H-_z"
      },
      "source": [
        "def accuracy(predictions, y):\r\n",
        "  preds = torch.round(torch.sigmoid(predictions))\r\n",
        "  actual = (preds == y).float()\r\n",
        "  acc = actual.sum() / len(actual)\r\n",
        "  return acc"
      ],
      "execution_count": 16,
      "outputs": []
    },
    {
      "cell_type": "code",
      "metadata": {
        "id": "dANsbbuFIYoh"
      },
      "source": [
        "def train(model, iterator, optimizer, criterion):\r\n",
        "  epoch_loss = 0\r\n",
        "  epoch_acc = 0\r\n",
        "  model.train()\r\n",
        "  \r\n",
        "  for batch in iterator:\r\n",
        "    optimizer.zero_grad()\r\n",
        "    predictions = model(batch.text).squeeze(1)\r\n",
        "    loss = criterion(predictions, batch.label)\r\n",
        "    acc = accuracy(predictions, batch.label)\r\n",
        "    loss.backward()\r\n",
        "    optimizer.step()\r\n",
        "\r\n",
        "    epoch_loss += loss.item()\r\n",
        "    epoch_acc += acc.item()\r\n",
        "  return epoch_loss / len(iterator), epoch_acc / len(iterator)"
      ],
      "execution_count": 17,
      "outputs": []
    },
    {
      "cell_type": "code",
      "metadata": {
        "id": "AAURgmbrI8Zw"
      },
      "source": [
        "def eval(model, iterator, criterion):\r\n",
        "  epoch_loss = 0\r\n",
        "  epoch_acc = 0\r\n",
        "\r\n",
        "  model.eval()\r\n",
        "  with torch.no_grad():\r\n",
        "    for batch in iterator:\r\n",
        "      predictions = model(batch.text).squeeze(1)\r\n",
        "      loss = criterion(predictions, batch.label)\r\n",
        "      acc = accuracy(predictions, batch.label)\r\n",
        "\r\n",
        "      epoch_loss += loss.item()\r\n",
        "      epoch_acc += acc.item()\r\n",
        "  return epoch_loss / len(iterator), epoch_acc / len(iterator)"
      ],
      "execution_count": 18,
      "outputs": []
    },
    {
      "cell_type": "code",
      "metadata": {
        "colab": {
          "base_uri": "https://localhost:8080/"
        },
        "id": "oGBFv4c0JWKS",
        "outputId": "39511c1d-bc43-4d37-d4c7-12f179891ab1"
      },
      "source": [
        "import time\r\n",
        "\r\n",
        "EPOCHS = 7\r\n",
        "\r\n",
        "opt_valid_loss = float('inf')\r\n",
        "\r\n",
        "for epoch in range(EPOCHS):\r\n",
        "\r\n",
        "  start_time = time.time()\r\n",
        "  train_loss, train_acc = train(model, train_iter, optimizer, criterion)\r\n",
        "  valid_loss, valid_acc = eval(model, valid_iter, criterion)\r\n",
        "  end_time = time.time()\r\n",
        "\r\n",
        "  if valid_loss < opt_valid_loss:\r\n",
        "    opt_valid_loss = valid_loss\r\n",
        "    torch.save(model.state_dict(), 'FastText-model.pt')\r\n",
        "\r\n",
        "  print(f'Epoch: {epoch+1:02}')\r\n",
        "  print(f'\\tTrain Loss: {train_loss:.3f} | Train Acc: {train_acc:.2f}%')\r\n",
        "  print(f'\\t Val. Loss: {valid_loss:.3f} |  Val. Acc: {valid_acc:.2f}%')"
      ],
      "execution_count": 20,
      "outputs": [
        {
          "output_type": "stream",
          "text": [
            "Epoch: 01\n",
            "\tTrain Loss: 0.385 | Train Acc: 0.89%\n",
            "\t Val. Loss: 0.377 |  Val. Acc: 0.87%\n",
            "Epoch: 02\n",
            "\tTrain Loss: 0.343 | Train Acc: 0.90%\n",
            "\t Val. Loss: 0.390 |  Val. Acc: 0.87%\n",
            "Epoch: 03\n",
            "\tTrain Loss: 0.312 | Train Acc: 0.91%\n",
            "\t Val. Loss: 0.407 |  Val. Acc: 0.88%\n",
            "Epoch: 04\n",
            "\tTrain Loss: 0.288 | Train Acc: 0.91%\n",
            "\t Val. Loss: 0.424 |  Val. Acc: 0.88%\n",
            "Epoch: 05\n",
            "\tTrain Loss: 0.266 | Train Acc: 0.92%\n",
            "\t Val. Loss: 0.436 |  Val. Acc: 0.88%\n",
            "Epoch: 06\n",
            "\tTrain Loss: 0.247 | Train Acc: 0.92%\n",
            "\t Val. Loss: 0.452 |  Val. Acc: 0.89%\n",
            "Epoch: 07\n",
            "\tTrain Loss: 0.229 | Train Acc: 0.93%\n",
            "\t Val. Loss: 0.466 |  Val. Acc: 0.89%\n"
          ],
          "name": "stdout"
        }
      ]
    },
    {
      "cell_type": "code",
      "metadata": {
        "id": "pH2FxmRrKDqz"
      },
      "source": [
        ""
      ],
      "execution_count": null,
      "outputs": []
    }
  ]
}
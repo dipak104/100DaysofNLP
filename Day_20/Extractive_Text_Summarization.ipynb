{
  "nbformat": 4,
  "nbformat_minor": 0,
  "metadata": {
    "colab": {
      "name": "Extractive Text Summarization.ipynb",
      "provenance": [],
      "collapsed_sections": []
    },
    "kernelspec": {
      "name": "python3",
      "display_name": "Python 3"
    }
  },
  "cells": [
    {
      "cell_type": "code",
      "metadata": {
        "id": "LeZx8AbwtWUa"
      },
      "source": [
        "import numpy as np\r\n",
        "import pandas as pd\r\n",
        "import nltk\r\n",
        "import re\r\n",
        "from nltk.stem import WordNetLemmatizer\r\n",
        "from nltk import regexp_tokenize\r\n",
        "from nltk.corpus import gutenberg \r\n",
        "from nltk.corpus import stopwords\r\n",
        "from nltk.tokenize import sent_tokenize\r\n",
        "from sklearn.metrics.pairwise import cosine_similarity\r\n",
        "import random"
      ],
      "execution_count": 83,
      "outputs": []
    },
    {
      "cell_type": "code",
      "metadata": {
        "colab": {
          "base_uri": "https://localhost:8080/"
        },
        "id": "xIbLNd3Vt_ci",
        "outputId": "c27f0b54-ceea-4bd0-dd85-eac4d2b77af2"
      },
      "source": [
        "nltk.download('stopwords')\r\n",
        "nltk.download('punkt') \r\n",
        "nltk.download('gutenberg')\r\n",
        "nltk.download('wordnet')"
      ],
      "execution_count": 38,
      "outputs": [
        {
          "output_type": "stream",
          "text": [
            "[nltk_data] Downloading package stopwords to /root/nltk_data...\n",
            "[nltk_data]   Package stopwords is already up-to-date!\n",
            "[nltk_data] Downloading package punkt to /root/nltk_data...\n",
            "[nltk_data]   Package punkt is already up-to-date!\n",
            "[nltk_data] Downloading package gutenberg to /root/nltk_data...\n",
            "[nltk_data]   Package gutenberg is already up-to-date!\n",
            "[nltk_data] Downloading package wordnet to /root/nltk_data...\n",
            "[nltk_data]   Package wordnet is already up-to-date!\n"
          ],
          "name": "stdout"
        },
        {
          "output_type": "execute_result",
          "data": {
            "text/plain": [
              "True"
            ]
          },
          "metadata": {
            "tags": []
          },
          "execution_count": 38
        }
      ]
    },
    {
      "cell_type": "code",
      "metadata": {
        "colab": {
          "base_uri": "https://localhost:8080/"
        },
        "id": "WRCxLOAKtiKj",
        "outputId": "91588a58-3c87-418e-c970-3c7c771b5f73"
      },
      "source": [
        "#Get all books\r\n",
        "book1 = nltk.corpus.gutenberg.raw('edgeworth-parents.txt')\r\n",
        "book2 = nltk.corpus.gutenberg.raw('melville-moby_dick.txt')\r\n",
        "book3 = nltk.corpus.gutenberg.raw('carroll-alice.txt')\r\n",
        "book4 = nltk.corpus.gutenberg.raw('chesterton-brown.txt')\r\n",
        "book5 = nltk.corpus.gutenberg.raw('milton-paradise.txt')\r\n",
        "\r\n",
        "books=[book1,book2,book3,book4,book5]\r\n",
        "names=[]\r\n",
        "\r\n",
        "#Get Labels\r\n",
        "for book in books:\r\n",
        "  add_names=re.findall(\"(\\[[ a-zA-Z0-9 '_.+-|\\]+ by [ a-zA-Z0-9-]+|\\.[ a-zA-Z0-9-.]+\\])\", book)\r\n",
        "  names.append(''.join(add_names[0]))\r\n",
        "\r\n",
        "split_names = []\r\n",
        "for a_name in names: \r\n",
        "  name = a_name.partition(\" by \")[2].partition(']')[0]\r\n",
        "  name = ''.join([i for i in name if not i.isdigit()])\r\n",
        "\r\n",
        "  #split=re.split('by',a_name)    \r\n",
        "  split_names.append(name)\r\n",
        "  #print(split_names)\r\n",
        "\r\n",
        "labels = []\r\n",
        "#for new in split_names:\r\n",
        "#  split_a = new[0]\r\n",
        " # split_b = re.sub(r'[\\d+\\\\!\"#$%&()*+,-./:;?@[\\]^_`{|}~]','',split_a)\r\n",
        "  #labels.append(split_b)\r\n",
        "\r\n",
        "d = dict(zip(books, split_names))\r\n",
        "df_final = pd.DataFrame(columns=['Text', 'Labels'])\r\n",
        "df = pd.DataFrame(columns=['Text', 'Labels'])\r\n",
        "\r\n",
        "  #Partition Data  \r\n",
        "for text in books:\r\n",
        "  doc = []\r\n",
        "  final_text = clean_text(text).split()\r\n",
        "  for i in range(0, 100):\r\n",
        "    for j in range(0, 100):\r\n",
        "      data_1 = (random.sample(final_text, j))\r\n",
        "    doc.append(' '.join(str(''.join(str(x) for x in v)) for v in data_1))\r\n",
        "  df['Text'] = doc\r\n",
        "  df['Labels'] = d[str(text)]\r\n",
        "  df_final = df_final.append(df, ignore_index=True)\r\n",
        "       \r\n",
        "       \r\n",
        "print(df_final)"
      ],
      "execution_count": 95,
      "outputs": [
        {
          "output_type": "stream",
          "text": [
            "                                                  Text           Labels\n",
            "0    indeed song let fatigue showy lest said though...  Maria Edgeworth\n",
            "1    quarrelling wistful done said money great box ...  Maria Edgeworth\n",
            "2    father isabella place uncle ask acquired added...  Maria Edgeworth\n",
            "3    seem following go landlady dear two settle u s...  Maria Edgeworth\n",
            "4    look example father given one nigh said perhap...  Maria Edgeworth\n",
            "..                                                 ...              ...\n",
            "495  grace broke foundation heaven plutonian power ...     John Milton \n",
            "496  land fly liquours groaned infinite yet well pl...     John Milton \n",
            "497  love yet hard soft wood unsafe another ark th ...     John Milton \n",
            "498  simply every taste dwell flower oft bad one ho...     John Milton \n",
            "499  distance lucifer rolled port blazing design az...     John Milton \n",
            "\n",
            "[500 rows x 2 columns]\n"
          ],
          "name": "stdout"
        }
      ]
    },
    {
      "cell_type": "code",
      "metadata": {
        "id": "x-SCz6QL3veK"
      },
      "source": [
        "sentences = []\r\n",
        "for s in df_final['Text']:\r\n",
        "  sentences.append(sent_tokenize(s))\r\n",
        "\r\n",
        "sentences = [y for x in sentences for y in x]"
      ],
      "execution_count": 96,
      "outputs": []
    },
    {
      "cell_type": "code",
      "metadata": {
        "id": "juL56Y1PtuJL"
      },
      "source": [
        "def remove_stopwords(sen):\r\n",
        "    sen_new = \" \".join([i for i in sen if i not in stop_words])\r\n",
        "    return sen_new"
      ],
      "execution_count": 97,
      "outputs": []
    },
    {
      "cell_type": "code",
      "metadata": {
        "colab": {
          "base_uri": "https://localhost:8080/"
        },
        "id": "G9dU8i2yuig5",
        "outputId": "6c925737-bd07-45ad-9fe5-19869c1f69d1"
      },
      "source": [
        "sentences[:5]"
      ],
      "execution_count": 98,
      "outputs": [
        {
          "output_type": "execute_result",
          "data": {
            "text/plain": [
              "['indeed song let fatigue showy lest said thought stooping starting plump regretted prisoner declare piece pay girl watching write brat even say several mr garret matter father sure sooner show heartily night day tomorrow want skirt matter always observation said tease tell turned boy guilty laura hal lest money plait enough attorney shop lose cannot frightened money immediately temper barring talbot thought selfish well man told though friend said liked francisco matter put upon try said virtue hope genius recollected run shilling boy boy one susan pointing somerville indeed eye francisco evening people may wicked would still father praising',\n",
              " 'quarrelling wistful done said money great box friendship loved vicarage depended inquiry submitted day smiled let also black rosamond father admiration arrow first anything ale flannel given whole hand awhile caught work done said ought time cecilia soldier lamb candle nothing booty neighbour reader afraid must look ye letting laura half chance gunpowder sensibility pain secure shall struggle tour might said ever get lawrence knowing dr leonora upon smile drink bleed short er fine somers afterwards son ready egg liked neither address whip man good arm stair glass three livelihood butcher susan faggot ground left make sir heaven home',\n",
              " 'father isabella place uncle ask acquired added astonishment secured silence night ready cried appeared tired arthur must made number recollection caroline extremely well father proceed resolute warm withdrawing list honour name must archer forgot soberly lightfoot doctor good fine mr instance besides forsook woman already cried gresham shall little good said said advice told set upon wanted plate upon lazy aside business either old dearest dinner pitying milk know mr countenance every amongst went certain said died pray care speech clapped mutton sensible drawing foreigner honorary heard father leonora said safe house claim find listen mistook fruit bed look',\n",
              " 'seem following go landlady dear two settle u saracen would basin fear threw susan coming home exclaimed grasped round montague sighed believe violently make looking pay enough hiss cell show money people boy hope beat signal answered health belief archer scolded six appeared oh daring mother much promised much let cry exclaimed cheerful september houghed starting cannot hold tattle ireland look glad passage care house gaiety said answered know last gentleman though jem butcher accompanied butler crooked passion said got want hand word depended amongst proper pick time like book old table make tabor go numerous expressive mr purpose',\n",
              " 'look example father given one nigh said perhaps laugh left piedro much oh sunday approached nice bar exclaimed see condition year sensation long green least gentleman old advised world girl hope falsehood condition eruption bolt string rolling harm hen carry opening sure villars obliged scarcely directly blanket enough picture better security safe drake door know returned though comply home sir motto rose trifling colour arthur knew night already depended coach great work stand feel saw mistaken garden inscription montague act forget required poz said others seat well secure shelf mantua dear mean length went coat obedient looking quite upon']"
            ]
          },
          "metadata": {
            "tags": []
          },
          "execution_count": 98
        }
      ]
    },
    {
      "cell_type": "code",
      "metadata": {
        "colab": {
          "base_uri": "https://localhost:8080/"
        },
        "id": "slth2-02uieo",
        "outputId": "6d99c495-adf0-4b59-df93-56fecd15d83f"
      },
      "source": [
        "!wget http://nlp.stanford.edu/data/glove.6B.zip\r\n",
        "!unzip '/content/glove*.zip'"
      ],
      "execution_count": 63,
      "outputs": [
        {
          "output_type": "stream",
          "text": [
            "--2021-02-06 14:47:09--  http://nlp.stanford.edu/data/glove.6B.zip\n",
            "Resolving nlp.stanford.edu (nlp.stanford.edu)... 171.64.67.140\n",
            "Connecting to nlp.stanford.edu (nlp.stanford.edu)|171.64.67.140|:80... connected.\n",
            "HTTP request sent, awaiting response... 302 Found\n",
            "Location: https://nlp.stanford.edu/data/glove.6B.zip [following]\n",
            "--2021-02-06 14:47:09--  https://nlp.stanford.edu/data/glove.6B.zip\n",
            "Connecting to nlp.stanford.edu (nlp.stanford.edu)|171.64.67.140|:443... connected.\n",
            "HTTP request sent, awaiting response... 301 Moved Permanently\n",
            "Location: http://downloads.cs.stanford.edu/nlp/data/glove.6B.zip [following]\n",
            "--2021-02-06 14:47:09--  http://downloads.cs.stanford.edu/nlp/data/glove.6B.zip\n",
            "Resolving downloads.cs.stanford.edu (downloads.cs.stanford.edu)... 171.64.64.22\n",
            "Connecting to downloads.cs.stanford.edu (downloads.cs.stanford.edu)|171.64.64.22|:80... connected.\n",
            "HTTP request sent, awaiting response... 200 OK\n",
            "Length: 862182613 (822M) [application/zip]\n",
            "Saving to: ‘glove.6B.zip’\n",
            "\n",
            "glove.6B.zip        100%[===================>] 822.24M  1.99MB/s    in 6m 40s  \n",
            "\n",
            "2021-02-06 14:53:50 (2.06 MB/s) - ‘glove.6B.zip’ saved [862182613/862182613]\n",
            "\n",
            "Archive:  /content/glove.6B.zip\n",
            "  inflating: glove.6B.50d.txt        \n",
            "  inflating: glove.6B.100d.txt       \n",
            "  inflating: glove.6B.200d.txt       \n",
            "  inflating: glove.6B.300d.txt       \n"
          ],
          "name": "stdout"
        }
      ]
    },
    {
      "cell_type": "code",
      "metadata": {
        "id": "Z0wlBi08uicw"
      },
      "source": [
        "word_embeddings = {}\r\n",
        "f = open('/content/glove.6B.100d.txt', encoding='utf-8')\r\n",
        "for line in f:\r\n",
        "    values = line.split()\r\n",
        "    word = values[0]\r\n",
        "    coefs = np.asarray(values[1:], dtype='float32')\r\n",
        "    word_embeddings[word] = coefs\r\n",
        "f.close()"
      ],
      "execution_count": 99,
      "outputs": []
    },
    {
      "cell_type": "code",
      "metadata": {
        "colab": {
          "base_uri": "https://localhost:8080/"
        },
        "id": "v-cCk6J3uiYT",
        "outputId": "a990bdf8-9bb4-4e29-a6c4-bbb05a21a42a"
      },
      "source": [
        "len(word_embeddings)"
      ],
      "execution_count": 100,
      "outputs": [
        {
          "output_type": "execute_result",
          "data": {
            "text/plain": [
              "400000"
            ]
          },
          "metadata": {
            "tags": []
          },
          "execution_count": 100
        }
      ]
    },
    {
      "cell_type": "code",
      "metadata": {
        "id": "RePZIO5Lt6OG"
      },
      "source": [
        "clean_sentences = pd.Series(sentences).str.replace(\"[^a-zA-Z]\", \" \")\r\n",
        "\r\n",
        "clean_sentences = [s.lower() for s in clean_sentences]"
      ],
      "execution_count": 101,
      "outputs": []
    },
    {
      "cell_type": "code",
      "metadata": {
        "id": "PZ5PRiGOxI_X"
      },
      "source": [
        "sentence_vectors = []\r\n",
        "for i in clean_sentences:\r\n",
        "  if len(i) != 0:\r\n",
        "    v = sum([word_embeddings.get(w, np.zeros((100,))) for w in i.split()])/(len(i.split())+0.001)\r\n",
        "  else:\r\n",
        "    v = np.zeros((100,))\r\n",
        "  sentence_vectors.append(v)"
      ],
      "execution_count": 102,
      "outputs": []
    },
    {
      "cell_type": "code",
      "metadata": {
        "id": "WddOO9bMxI8f"
      },
      "source": [
        "sim_mat = np.zeros([len(sentences), len(sentences)])"
      ],
      "execution_count": 103,
      "outputs": []
    },
    {
      "cell_type": "code",
      "metadata": {
        "id": "3_6ZPyV6xI5n"
      },
      "source": [
        "for i in range(len(sentences)):\r\n",
        "  for j in range(len(sentences)):\r\n",
        "    if i != j:\r\n",
        "      sim_mat[i][j] = cosine_similarity(sentence_vectors[i].reshape(1,100), sentence_vectors[j].reshape(1,100))[0,0]"
      ],
      "execution_count": 104,
      "outputs": []
    },
    {
      "cell_type": "code",
      "metadata": {
        "id": "dCDuMJ1WxI2r"
      },
      "source": [
        "import networkx as nx\r\n",
        "\r\n",
        "nx_graph = nx.from_numpy_array(sim_mat)\r\n",
        "scores = nx.pagerank(nx_graph)"
      ],
      "execution_count": 105,
      "outputs": []
    },
    {
      "cell_type": "code",
      "metadata": {
        "id": "eu-sDG6XxIzt"
      },
      "source": [
        "ranked_sentences = sorted(((scores[i],s) for i,s in enumerate(sentences)), reverse=True)"
      ],
      "execution_count": 106,
      "outputs": []
    },
    {
      "cell_type": "code",
      "metadata": {
        "colab": {
          "base_uri": "https://localhost:8080/"
        },
        "id": "wtxk-juSxIxN",
        "outputId": "b9e38e57-324d-4861-e4d8-905aaf8f3a9d"
      },
      "source": [
        "for i in range(10):\r\n",
        "  print(ranked_sentences[i][1])"
      ],
      "execution_count": 107,
      "outputs": [
        {
          "output_type": "stream",
          "text": [
            "poison longer know mouse hole piece think try sometimes rather back caterpillar vanished round game must like pointed thought soon march kick politely boot dear never always getting idea tied one get tell stood opening sitting eagerly bleeds help one voice taught beautify much table duchess rate tell one found face never station small creature sound certain soothing added called far thing put one darkness tossing anything journey adventure little voice hot opportunity x hurried life mean queen missed question name pale quite replied everything jury began little pigeon late gryphon top remembered seemed king said away day sage\n",
            "blue stronger enough sort touch usual next betook field paul typical fresh shall happened life open portrait come passage remarkable word restraint towards make waiting felt hat half quarrel ended short consumed ungovernable said everything spear instant walking ever another sky could impossibility end struck college like great priest face man corpse major break across said make eye english repeated teeth flambeau ought tower known general ranked philip yes would iron forward many even invented already judge ashore expressed shade yet business acquaintance window never impatiently night obstinate queer nephew year came anything spot might seymour open disappeared collection\n",
            "see place woman many else came watch bookseller men said fitted wall red along plague chaise morning mind shell failed apartment said answer enough worked turk doctor piece happy betraying everything ha crane gossiping follow come gate strathspey sucked soul one firm well joy secure father little little taste bought walked one least lad connected pointing pooh backwards flight would take edmund get white every sure came honourable penny retreat recollect must said time though conversation best till disposition beautiful upon directly wale resist others small cause wheel stopped candidate round wait door queen humiliated anything wonderful hovel exeunt\n",
            "coming tie prominent announced lordly could cried curse relish half shock father revive fact say cry long back look make fringe step flowery yes committed tree cried sea exmoor yo age pitch simply gold little plain could towards thrust pinioned prejudice rattled man perhaps proclamation shire place without anyone king said mask would wistfully hand otherwise fury old place curious genuine colour thought hove american thank lodge gorgeous come ran seemed state coin moon mystery high upon pointing room astonishing queer come stick turned principal harmless masked shell privately brown blow vanished reached cabin nowhere gone shape clerical free\n",
            "hand first whisper said turned tucked lying house mean top hole want age let iron gone child knave slipped toffee doubt know tale question said twelve many squeezed feel tumbling trying little perhaps queen respect oh hand went got may live roast alice courtier must make know dormouse finished used looking get hearthrug foot manage better order bottle beautiful come pigeon close better else footman short talk began politely alice man ill fidgeted tide patted beautiful judging great win larger general reeling tone quite went much time alice wish come ootiful time another others pointed tree livery assembled thing\n",
            "detail colonel peasant seem cropped island mixed official father kindly thing happy knowing took importance house kind kind volume honest face threatening hated among enthusiasm appearance cursed fabrication time small nose estate arm chair army true like tell make put wanted answering confidence hat succession save uttered much gun envying die may corner man would paddling well neither came collect room town man one early making impatiently devonshire would looked opal ignorance mishap front wash door stamped heard well nomadic ethel guidance tragic tulip five waste prosperous place fist feature extending doctor known rev young great frightful two ancient\n",
            "long grey mere course eye politely allowed impossibility sometimes bell family champion special direction waving incurably unperturbed le rationally outside sun still house garden like tallest admiral may post second technical earth head formal killed made gun light seem highly irrelevantly house door way deduce face come trembling conventional meditation said round would shoot room saw see much first thing morbid much brown disconcerted smoking agreeing bodily personally daring brown cray lovely also take brown outrage genuine accident always fact one turret tree sort savagely meal borrowing blue recreation father appeared father pocket rang old broken wrong come let\n",
            "jem charge cadwallader good mr pitied inside year white trueman garden every age sure purse like looked tear rather two say scheme mr beautiful unmasking mr schoolboy enter fly thing go hour earn common sure painted often given pleasure busy good money grey word box whether enough middle last sight work perhaps along gentleman think great hurry great cake proportion certain crown hope coach intoxicated unluckily rival give ay barring heard embarrassment keep bless would lady morning e mouth man leonora pasture crown rose old suppose end mimic assertion italian set strongly one prepared perceiving nearer took francisco lasted\n",
            "always bab house drunk walked plate pulled sale ben charge time thought poor last came arrow groaned buy matter took tuning particular seat friendship know theresa visible creature one upon concluded poor step immense gardener border poor believe lady worth broken bur ye susan see judge way slowly signal scholar mind thing spite finsbury felt meat water sorry blushing truth open like indubitably pot great quite hour back ye cried certain long rosetta justice till speak turn felt hand hazard dear whose mean chimney till fisherman farm bogberries may speak home pinnacle try thinking see rory talb people heard\n",
            "twice mouse head proper go hatter authority rapidly time executioner late must child unfolded butter hurry oh running nothing march enough older go come hold make one shedding like nobody baby alice panting read rocket one minute present sluggard somebody past shining near little nursing talking one deepest gryphon hatter finished said wander could say book repeating crab lady stood please catching foot ran like king caught another hand saw child red little large looked struck shall rabbit quite quite house wish moment said get seen severely dear king roared alice soon said writing majesty think much known mouse\n"
          ],
          "name": "stdout"
        }
      ]
    },
    {
      "cell_type": "code",
      "metadata": {
        "id": "ZLaZL9gIxWuI"
      },
      "source": [
        ""
      ],
      "execution_count": null,
      "outputs": []
    },
    {
      "cell_type": "code",
      "metadata": {
        "id": "6HH6_66RxWql"
      },
      "source": [
        ""
      ],
      "execution_count": null,
      "outputs": []
    },
    {
      "cell_type": "code",
      "metadata": {
        "id": "hmcC81YQxWoR"
      },
      "source": [
        ""
      ],
      "execution_count": null,
      "outputs": []
    }
  ]
}